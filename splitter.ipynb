from PyPDF2 import PdfReader, PdfWriter

# Function to extract pages from a PDF
def extract_pages(input_pdf, output_pdf, pages):
    """
    Extract specific pages from a PDF and save them to a new PDF file.

    Args:
        input_pdf (str): Path to the input PDF file.
        output_pdf (str): Path to the output PDF file.
        pages (list): List of page numbers to extract (1-based indexing).
    """
    reader = PdfReader(input_pdf)
    writer = PdfWriter()

    for page_num in pages:
        try:
            # PyPDF2 uses 0-based indexing for pages
            writer.add_page(reader.pages[page_num - 1])
        except IndexError:
            print(f"Page number {page_num} is out of range.")
    
    # Write the extracted pages to a new PDF
    with open(output_pdf, "wb") as out_pdf:
        writer.write(out_pdf)
    print(f"Extracted pages saved to {output_pdf}")

# Example usage
input_pdf_path = "example.pdf"  # Replace with your PDF file
output_pdf_path = "extracted_pages.pdf"
pages_to_extract = [1, 3, 5]  # Replace with the pages you want to extract

extract_pages(input_pdf_path, output_pdf_path, pages_to_extract)
