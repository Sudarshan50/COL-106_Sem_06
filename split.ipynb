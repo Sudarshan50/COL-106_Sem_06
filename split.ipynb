{
 "cells": [
  {
   "cell_type": "code",
   "execution_count": 1,
   "metadata": {},
   "outputs": [],
   "source": [
    "from PyPDF2 import PdfReader, PdfWriter"
   ]
  },
  {
   "cell_type": "code",
   "execution_count": 2,
   "metadata": {},
   "outputs": [],
   "source": [
    "# Function to extract pages from a PDF\n",
    "def extract_pages(input_pdf, output_pdf, pages):\n",
    "    \"\"\"\n",
    "    Extract specific pages from a PDF and save them to a new PDF file.\n",
    "\n",
    "    Args:\n",
    "        input_pdf (str): Path to the input PDF file.\n",
    "        output_pdf (str): Path to the output PDF file.\n",
    "        pages (list): List of page numbers to extract (1-based indexing).\n",
    "    \"\"\"\n",
    "    reader = PdfReader(input_pdf)\n",
    "    writer = PdfWriter()\n",
    "\n",
    "    for page_num in pages:\n",
    "        try:\n",
    "            # PyPDF2 uses 0-based indexing for pages\n",
    "            writer.add_page(reader.pages[page_num - 1])\n",
    "        except IndexError:\n",
    "            print(f\"Page number {page_num} is out of range.\")\n",
    "    \n",
    "    # Write the extracted pages to a new PDF\n",
    "    with open(output_pdf, \"wb\") as out_pdf:\n",
    "        writer.write(out_pdf)\n",
    "    print(f\"Extracted pages saved to {output_pdf}\")"
   ]
  },
  {
   "cell_type": "code",
   "execution_count": 3,
   "metadata": {},
   "outputs": [],
   "source": [
    "input_pdf_path = \"./Wiley.Data.Structures.and.Algorithms.in.Java.6th.Edition.www.EBooksWorld.ir.pdf\"  # Replace with your PDF file\n",
    "output_pdf_path = \"trees.pdf\"\n",
    "pages_to_extract = list(range(325, 376))  # Replace with the pages you want to extract"
   ]
  },
  {
   "cell_type": "code",
   "execution_count": 4,
   "metadata": {},
   "outputs": [
    {
     "name": "stdout",
     "output_type": "stream",
     "text": [
      "Extracted pages saved to trees.pdf\n"
     ]
    }
   ],
   "source": [
    "extract_pages(input_pdf_path, output_pdf_path, pages_to_extract)"
   ]
  },
  {
   "cell_type": "code",
   "execution_count": null,
   "metadata": {},
   "outputs": [],
   "source": []
  }
 ],
 "metadata": {
  "kernelspec": {
   "display_name": "base",
   "language": "python",
   "name": "python3"
  },
  "language_info": {
   "codemirror_mode": {
    "name": "ipython",
    "version": 3
   },
   "file_extension": ".py",
   "mimetype": "text/x-python",
   "name": "python",
   "nbconvert_exporter": "python",
   "pygments_lexer": "ipython3",
   "version": "3.12.2"
  }
 },
 "nbformat": 4,
 "nbformat_minor": 2
}
